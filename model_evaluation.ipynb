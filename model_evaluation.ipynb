{
 "cells": [
  {
   "cell_type": "code",
   "execution_count": 15,
   "metadata": {},
   "outputs": [],
   "source": [
    "import pandas as pd\n",
    "from models.sentiment_model import SentimentModel\n",
    "from models.opportunity_scorer import OpportunityScorer\n",
    "import matplotlib.pyplot as plt\n",
    "from sklearn.model_selection import train_test_split\n",
    "from sklearn.metrics import accuracy_score, classification_report, confusion_matrix\n"
   ]
  },
  {
   "cell_type": "code",
   "execution_count": 16,
   "metadata": {},
   "outputs": [],
   "source": [
    "business_data = pd.read_json('data/mock_data/business_data.json')\n",
    "economic_data = pd.read_json('data/mock_data/economic_data.json')\n",
    "social_data = pd.read_json('data/mock_data/sm_data.json')"
   ]
  },
  {
   "cell_type": "code",
   "execution_count": 17,
   "metadata": {},
   "outputs": [],
   "source": [
    "combined_data = pd.concat([social_data, business_data, economic_data], axis = 1)"
   ]
  },
  {
   "cell_type": "code",
   "execution_count": 18,
   "metadata": {},
   "outputs": [
    {
     "data": {
      "text/html": [
       "<div>\n",
       "<style scoped>\n",
       "    .dataframe tbody tr th:only-of-type {\n",
       "        vertical-align: middle;\n",
       "    }\n",
       "\n",
       "    .dataframe tbody tr th {\n",
       "        vertical-align: top;\n",
       "    }\n",
       "\n",
       "    .dataframe thead th {\n",
       "        text-align: right;\n",
       "    }\n",
       "</style>\n",
       "<table border=\"1\" class=\"dataframe\">\n",
       "  <thead>\n",
       "    <tr style=\"text-align: right;\">\n",
       "      <th></th>\n",
       "      <th>sm_loc</th>\n",
       "      <th>sm_timestamp</th>\n",
       "      <th>text</th>\n",
       "      <th>sentiment_score</th>\n",
       "      <th>engagement_score</th>\n",
       "      <th>business_id</th>\n",
       "      <th>b_loc</th>\n",
       "      <th>type</th>\n",
       "      <th>revenue</th>\n",
       "      <th>age</th>\n",
       "      <th>rating</th>\n",
       "      <th>ec_timestamp</th>\n",
       "      <th>market_index</th>\n",
       "      <th>inflation_rate</th>\n",
       "      <th>interest_rate</th>\n",
       "    </tr>\n",
       "  </thead>\n",
       "  <tbody>\n",
       "    <tr>\n",
       "      <th>0</th>\n",
       "      <td>Mumbai</td>\n",
       "      <td>1749586733170</td>\n",
       "      <td>This is a sample tweet about Mumbai.</td>\n",
       "      <td>0.665555</td>\n",
       "      <td>0.267257</td>\n",
       "      <td>B000</td>\n",
       "      <td>Bengaluru</td>\n",
       "      <td>Tech</td>\n",
       "      <td>94667.310209</td>\n",
       "      <td>5</td>\n",
       "      <td>4.774604</td>\n",
       "      <td>1749673133173</td>\n",
       "      <td>0.687877</td>\n",
       "      <td>0.020451</td>\n",
       "      <td>0.023174</td>\n",
       "    </tr>\n",
       "    <tr>\n",
       "      <th>1</th>\n",
       "      <td>Mumbai</td>\n",
       "      <td>1749500333170</td>\n",
       "      <td>This is a sample tweet about Mumbai.</td>\n",
       "      <td>0.660467</td>\n",
       "      <td>0.895652</td>\n",
       "      <td>B001</td>\n",
       "      <td>New Delhi</td>\n",
       "      <td>Tech</td>\n",
       "      <td>124431.850884</td>\n",
       "      <td>8</td>\n",
       "      <td>3.825776</td>\n",
       "      <td>1748290733173</td>\n",
       "      <td>0.687877</td>\n",
       "      <td>0.020451</td>\n",
       "      <td>0.023174</td>\n",
       "    </tr>\n",
       "    <tr>\n",
       "      <th>2</th>\n",
       "      <td>Mumbai</td>\n",
       "      <td>1750105133170</td>\n",
       "      <td>This is a sample tweet about Mumbai.</td>\n",
       "      <td>0.520147</td>\n",
       "      <td>0.718785</td>\n",
       "      <td>B002</td>\n",
       "      <td>Mumbai</td>\n",
       "      <td>Tech</td>\n",
       "      <td>48510.096086</td>\n",
       "      <td>2</td>\n",
       "      <td>3.687855</td>\n",
       "      <td>1748204333173</td>\n",
       "      <td>0.687877</td>\n",
       "      <td>0.020451</td>\n",
       "      <td>0.023174</td>\n",
       "    </tr>\n",
       "    <tr>\n",
       "      <th>3</th>\n",
       "      <td>New Delhi</td>\n",
       "      <td>1748117933170</td>\n",
       "      <td>This is a sample tweet about New Delhi.</td>\n",
       "      <td>0.935511</td>\n",
       "      <td>0.681257</td>\n",
       "      <td>B003</td>\n",
       "      <td>Bengaluru</td>\n",
       "      <td>Restaurant</td>\n",
       "      <td>108350.585687</td>\n",
       "      <td>2</td>\n",
       "      <td>4.012406</td>\n",
       "      <td>1747772333173</td>\n",
       "      <td>0.687877</td>\n",
       "      <td>0.020451</td>\n",
       "      <td>0.023174</td>\n",
       "    </tr>\n",
       "    <tr>\n",
       "      <th>4</th>\n",
       "      <td>Hyderabad</td>\n",
       "      <td>1749327533170</td>\n",
       "      <td>This is a sample tweet about Hyderabad.</td>\n",
       "      <td>0.412436</td>\n",
       "      <td>0.388872</td>\n",
       "      <td>B004</td>\n",
       "      <td>Hyderabad</td>\n",
       "      <td>Tech</td>\n",
       "      <td>90859.769894</td>\n",
       "      <td>14</td>\n",
       "      <td>3.122983</td>\n",
       "      <td>1749845933173</td>\n",
       "      <td>0.687877</td>\n",
       "      <td>0.020451</td>\n",
       "      <td>0.023174</td>\n",
       "    </tr>\n",
       "  </tbody>\n",
       "</table>\n",
       "</div>"
      ],
      "text/plain": [
       "      sm_loc   sm_timestamp                                     text  \\\n",
       "0     Mumbai  1749586733170     This is a sample tweet about Mumbai.   \n",
       "1     Mumbai  1749500333170     This is a sample tweet about Mumbai.   \n",
       "2     Mumbai  1750105133170     This is a sample tweet about Mumbai.   \n",
       "3  New Delhi  1748117933170  This is a sample tweet about New Delhi.   \n",
       "4  Hyderabad  1749327533170  This is a sample tweet about Hyderabad.   \n",
       "\n",
       "   sentiment_score  engagement_score business_id      b_loc        type  \\\n",
       "0         0.665555          0.267257        B000  Bengaluru        Tech   \n",
       "1         0.660467          0.895652        B001  New Delhi        Tech   \n",
       "2         0.520147          0.718785        B002     Mumbai        Tech   \n",
       "3         0.935511          0.681257        B003  Bengaluru  Restaurant   \n",
       "4         0.412436          0.388872        B004  Hyderabad        Tech   \n",
       "\n",
       "         revenue  age    rating   ec_timestamp  market_index  inflation_rate  \\\n",
       "0   94667.310209    5  4.774604  1749673133173      0.687877        0.020451   \n",
       "1  124431.850884    8  3.825776  1748290733173      0.687877        0.020451   \n",
       "2   48510.096086    2  3.687855  1748204333173      0.687877        0.020451   \n",
       "3  108350.585687    2  4.012406  1747772333173      0.687877        0.020451   \n",
       "4   90859.769894   14  3.122983  1749845933173      0.687877        0.020451   \n",
       "\n",
       "   interest_rate  \n",
       "0       0.023174  \n",
       "1       0.023174  \n",
       "2       0.023174  \n",
       "3       0.023174  \n",
       "4       0.023174  "
      ]
     },
     "execution_count": 18,
     "metadata": {},
     "output_type": "execute_result"
    }
   ],
   "source": [
    "combined_data.head()"
   ]
  },
  {
   "cell_type": "code",
   "execution_count": 23,
   "metadata": {},
   "outputs": [],
   "source": [
    "opportunity_scorer = OpportunityScorer()\n",
    "features = opportunity_scorer.prepare_features(combined_data)\n",
    "combined_data['label'] = combined_data.apply(opportunity_scorer.generate_opportunity_score, axis=1)\n",
    "labels = combined_data['label']"
   ]
  },
  {
   "cell_type": "code",
   "execution_count": 24,
   "metadata": {},
   "outputs": [],
   "source": [
    "X_train, X_test, y_train, y_test = train_test_split(features, labels, test_size = 0.2, random_state = 42)"
   ]
  },
  {
   "cell_type": "code",
   "execution_count": 25,
   "metadata": {},
   "outputs": [],
   "source": [
    "opportunity_scorer.train_model(X_train, y_train)\n",
    "y_pred = opportunity_scorer.model.predict(X_test)"
   ]
  },
  {
   "cell_type": "code",
   "execution_count": 26,
   "metadata": {},
   "outputs": [
    {
     "name": "stdout",
     "output_type": "stream",
     "text": [
      "Accuracy: 0.985\n",
      "Classification Report:\n",
      "               precision    recall  f1-score   support\n",
      "\n",
      "           2       1.00      1.00      1.00        20\n",
      "           3       1.00      1.00      1.00        55\n",
      "           4       0.98      1.00      0.99        89\n",
      "           5       1.00      0.91      0.95        32\n",
      "           6       0.80      1.00      0.89         4\n",
      "\n",
      "    accuracy                           0.98       200\n",
      "   macro avg       0.96      0.98      0.97       200\n",
      "weighted avg       0.99      0.98      0.98       200\n",
      "\n",
      "Confusion Matrix:\n",
      " [[20  0  0  0  0]\n",
      " [ 0 55  0  0  0]\n",
      " [ 0  0 89  0  0]\n",
      " [ 0  0  2 29  1]\n",
      " [ 0  0  0  0  4]]\n"
     ]
    }
   ],
   "source": [
    "print(\"Accuracy:\", accuracy_score(y_test, y_pred))\n",
    "print(\"Classification Report:\\n\", classification_report(y_test, y_pred))\n",
    "print(\"Confusion Matrix:\\n\", confusion_matrix(y_test, y_pred))"
   ]
  }
 ],
 "metadata": {
  "kernelspec": {
   "display_name": "Python 3",
   "language": "python",
   "name": "python3"
  },
  "language_info": {
   "codemirror_mode": {
    "name": "ipython",
    "version": 3
   },
   "file_extension": ".py",
   "mimetype": "text/x-python",
   "name": "python",
   "nbconvert_exporter": "python",
   "pygments_lexer": "ipython3",
   "version": "3.11.12"
  }
 },
 "nbformat": 4,
 "nbformat_minor": 2
}
